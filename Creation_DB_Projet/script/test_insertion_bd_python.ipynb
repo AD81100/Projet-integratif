{
 "cells": [
  {
   "cell_type": "markdown",
   "id": "ba0823fd",
   "metadata": {},
   "source": [
    "# Table Provoquer"
   ]
  },
  {
   "cell_type": "code",
   "execution_count": 11,
   "id": "ac2d9c72",
   "metadata": {},
   "outputs": [],
   "source": []
  },
  {
   "cell_type": "code",
   "execution_count": null,
   "id": "f3e6ea94",
   "metadata": {},
   "outputs": [],
   "source": [
    "#sud_ouest\n",
    "\n",
    "with open(r\"C:\\Users\\arifd\\OneDrive\\Bureau\\donnee_propre_sud_ouest_csv.csv\", mode= \"r\") as f, open(\"output.txt\", mode=\"w\") as out_file:\n",
    "    nbLigne = 0\n",
    "    for ligne in f:\n",
    "        donnee = ligne.split(\";\")\n",
    "        if nbLigne != 0 :\n",
    "            out_file.write(f\"({donnee[0]},{donnee[4]}),\\n\")\n",
    "        nbLigne+=1 "
   ]
  },
  {
   "cell_type": "code",
   "execution_count": 7,
   "id": "ffff6b9f-c87f-4a64-ae60-5acfbfab3662",
   "metadata": {},
   "outputs": [],
   "source": [
    "#sud_est\n",
    "\n",
    "\n",
    "with open(r\"C:\\Users\\arifd\\OneDrive\\Bureau\\Creation_DB_Projet\\csv\\donnees_sud_est_propre_csv.csv\", mode= \"r\") as f, open(\"insertion_provoquer_sud-est.txt\", mode=\"w\") as out_file:\n",
    "    nbLigne = 0\n",
    "    for ligne in f:\n",
    "        donnee_se = ligne.split(\";\")\n",
    "        if nbLigne != 0 :\n",
    "            out_file.write(f\"({donnee_se[0]},{donnee_se[4]}),\\n\")\n",
    "        nbLigne+=1 "
   ]
  },
  {
   "cell_type": "code",
   "execution_count": 5,
   "id": "f47715ad",
   "metadata": {},
   "outputs": [],
   "source": [
    "#corse\n",
    "\n",
    "with open(r\"C:\\Users\\arifd\\OneDrive\\Bureau\\Creation_DB_Projet\\csv\\donnees_corse_propre_csv.csv\", mode= \"r\") as f, open(\"insertion_provoquer_corse.txt\", mode=\"w\") as out_file:\n",
    "    nbLigne = 0\n",
    "    for ligne in f:\n",
    "        donnee = ligne.split(\";\")\n",
    "        if nbLigne != 0 :\n",
    "            out_file.write(f\"({donnee[0]},{donnee[4]}),\\n\")\n",
    "        nbLigne+=1 "
   ]
  },
  {
   "cell_type": "code",
   "execution_count": null,
   "id": "4f30dbfd",
   "metadata": {},
   "outputs": [],
   "source": []
  },
  {
   "cell_type": "code",
   "execution_count": 6,
   "id": "fe44df6f",
   "metadata": {},
   "outputs": [],
   "source": [
    "#est\n",
    "\n",
    "\n",
    "with open(r\"C:\\Users\\arifd\\OneDrive\\Bureau\\Creation_DB_Projet\\csv\\est_presque_propre_csv.csv\", mode= \"r\") as f, open(\"insertion_provoquer_est.txt\", mode=\"w\") as out_file:\n",
    "    nbLigne = 0\n",
    "    for ligne in f:\n",
    "        donnee = ligne.split(\";\")\n",
    "        if nbLigne != 0 :\n",
    "            out_file.write(f\"({donnee[0]},{donnee[4]}),\\n\")\n",
    "        nbLigne+=1 "
   ]
  },
  {
   "cell_type": "markdown",
   "id": "34d9351f",
   "metadata": {},
   "source": [
    "# Table DFCI\n"
   ]
  },
  {
   "cell_type": "code",
   "execution_count": 9,
   "id": "952b691d",
   "metadata": {},
   "outputs": [],
   "source": [
    "with open(r\"C:\\Users\\arifd\\OneDrive\\Bureau\\Creation_DB_Projet\\csv\\DFCI_csv.csv\", mode= \"r\") as f, open(\"dfci_insertion.txt\", mode=\"w\") as out_file:\n",
    "    nbLigne = 0\n",
    "    for ligne in f:\n",
    "        donnee = ligne.split(\";\")\n",
    "        if nbLigne != 0 :\n",
    "            out_file.write(f\"({donnee[0]},{donnee[1]},{donnee[2]}),\\n\")\n",
    "        nbLigne+=1 "
   ]
  },
  {
   "cell_type": "markdown",
   "id": "3e4fd561",
   "metadata": {},
   "source": [
    "# Table Etat_DFCI\n"
   ]
  },
  {
   "cell_type": "code",
   "execution_count": 8,
   "id": "2147f220",
   "metadata": {},
   "outputs": [],
   "source": [
    "with open(r\"C:\\Users\\arifd\\OneDrive\\Bureau\\Creation_DB_Projet\\csv\\donnees_etat_csv.csv\", mode= \"r\") as f, open(\"etat_dfci_insertion.txt\", mode=\"w\") as file:\n",
    "    \n",
    "    nb = 0\n",
    "    for ligne in f:\n",
    "        donnees = ligne.split(\";\")\n",
    "        if nb != 0:\n",
    "            file.write(f\"({donnees[0]},{donnees[5]},{donnees[3]},{donnees[4]},'{donnees[1]}',{donnees[6]},'{donnees[2]}'),\\n\")\n",
    "        nb += 1\n"
   ]
  },
  {
   "cell_type": "markdown",
   "id": "5419120a",
   "metadata": {},
   "source": [
    "# Table Incendie\n"
   ]
  },
  {
   "cell_type": "code",
   "execution_count": 11,
   "id": "55836fa6",
   "metadata": {},
   "outputs": [],
   "source": [
    "#sud_ouest\n",
    "\n",
    "with open(r\"C:\\Users\\arifd\\OneDrive\\Bureau\\Creation_DB_Projet\\csv\\donnee_propre_sud_ouest_csv.csv\", mode= \"r\") as f, open(\"incendie_sud_ouest.txt\", mode=\"w\") as out_file:\n",
    "    nbLigne = 0\n",
    "    for ligne in f:\n",
    "        donnee = ligne.split(\";\")\n",
    "        if nbLigne != 0 :\n",
    "            out_file.write(f\"({donnee[0]},'{donnee[1]}',{donnee[2]},'{donnee[3]}','{donnee[5]}'),\\n\")\n",
    "        nbLigne+=1 "
   ]
  },
  {
   "cell_type": "code",
   "execution_count": 23,
   "id": "31696cf7",
   "metadata": {},
   "outputs": [],
   "source": [
    "#sud_est\n",
    "\n",
    "with open(r\"C:\\Users\\arifd\\OneDrive\\Bureau\\Creation_DB_Projet\\csv\\donnees_sud_est_propre_csv.csv\", mode= \"r\") as f, open(\"incendie_sud_est.txt\", mode=\"w\") as out_file:\n",
    "    nbLigne = 0\n",
    "    for ligne in f:\n",
    "        donnee = ligne.split(\";\")\n",
    "        if nbLigne != 0 :\n",
    "            out_file.write(f\"({donnee[0]},'{donnee[1]}',{donnee[2]},'{donnee[3]}','{donnee[5]}'),\\n\")\n",
    "        nbLigne+=1 "
   ]
  },
  {
   "cell_type": "code",
   "execution_count": 21,
   "id": "8b3f1112",
   "metadata": {},
   "outputs": [],
   "source": [
    "#est\n",
    "\n",
    "with open(r\"C:\\Users\\arifd\\OneDrive\\Bureau\\Creation_DB_Projet\\csv\\est_presque_propre_csv.csv\", mode= \"r\") as f, open(\"incendie_est.txt\", mode=\"w\") as out_file:\n",
    "    nbLigne = 0\n",
    "    for ligne in f:\n",
    "        donnee = ligne.split(\";\")\n",
    "        if nbLigne != 0 :\n",
    "            out_file.write(f\"({donnee[0]},'{donnee[1]}',{donnee[2]},'{donnee[3]}','{donnee[6]}'),\\n\")\n",
    "        nbLigne+=1 "
   ]
  },
  {
   "cell_type": "code",
   "execution_count": 22,
   "id": "d7998789",
   "metadata": {},
   "outputs": [],
   "source": [
    "#corse\n",
    "\n",
    "with open(r\"C:\\Users\\arifd\\OneDrive\\Bureau\\Creation_DB_Projet\\csv\\donnees_corse_propre_csv.csv\", mode= \"r\") as f, open(\"incendie_corse.txt\", mode=\"w\") as out_file:\n",
    "    nbLigne = 0\n",
    "    for ligne in f:\n",
    "        donnee = ligne.split(\";\")\n",
    "        if nbLigne != 0 :\n",
    "            out_file.write(f\"({donnee[0]},'{donnee[1]}',{donnee[2]},'{donnee[3]}','{donnee[6]}'),\\n\")\n",
    "        nbLigne+=1 "
   ]
  },
  {
   "cell_type": "code",
   "execution_count": null,
   "id": "e9d91f5c",
   "metadata": {},
   "outputs": [],
   "source": []
  }
 ],
 "metadata": {
  "kernelspec": {
   "display_name": "Python 3 (ipykernel)",
   "language": "python",
   "name": "python3"
  },
  "language_info": {
   "codemirror_mode": {
    "name": "ipython",
    "version": 3
   },
   "file_extension": ".py",
   "mimetype": "text/x-python",
   "name": "python",
   "nbconvert_exporter": "python",
   "pygments_lexer": "ipython3",
   "version": "3.9.12"
  }
 },
 "nbformat": 4,
 "nbformat_minor": 5
}
