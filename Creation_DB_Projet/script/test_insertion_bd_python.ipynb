{
 "cells": [
  {
   "cell_type": "markdown",
   "id": "ba0823fd",
   "metadata": {},
   "source": [
    "# Table Provoquer"
   ]
  },
  {
   "cell_type": "code",
   "execution_count": 11,
   "id": "ac2d9c72",
   "metadata": {},
   "outputs": [],
   "source": []
  },
  {
   "cell_type": "code",
   "execution_count": null,
   "id": "f3e6ea94",
   "metadata": {},
   "outputs": [],
   "source": [
    "#sud_ouest\n",
    "\n",
    "with open(r\"C:\\Users\\arifd\\OneDrive\\Bureau\\donnee_propre_sud_ouest_csv.csv\", mode= \"r\") as f, open(\"output.txt\", mode=\"w\") as out_file:\n",
    "    nbLigne = 0\n",
    "    for ligne in f:\n",
    "        donnee = ligne.split(\";\")\n",
    "        if nbLigne != 0 :\n",
    "            out_file.write(f\"({donnee[0]},{donnee[4]}),\\n\")\n",
    "        nbLigne+=1 "
   ]
  },
  {
   "cell_type": "code",
   "execution_count": 7,
   "id": "ffff6b9f-c87f-4a64-ae60-5acfbfab3662",
   "metadata": {},
   "outputs": [],
   "source": [
    "#sud_est\n",
    "\n",
    "\n",
    "with open(r\"C:\\Users\\arifd\\OneDrive\\Bureau\\Creation_DB_Projet\\csv\\donnees_sud_est_propre_csv.csv\", mode= \"r\") as f, open(\"insertion_provoquer_sud-est.txt\", mode=\"w\") as out_file:\n",
    "    nbLigne = 0\n",
    "    for ligne in f:\n",
    "        donnee_se = ligne.split(\";\")\n",
    "        if nbLigne != 0 :\n",
    "            out_file.write(f\"({donnee_se[0]},{donnee_se[4]}),\\n\")\n",
    "        nbLigne+=1 "
   ]
  },
  {
   "cell_type": "code",
   "execution_count": 5,
   "id": "f47715ad",
   "metadata": {},
   "outputs": [],
   "source": [
    "#corse\n",
    "\n",
    "with open(r\"C:\\Users\\arifd\\OneDrive\\Bureau\\Creation_DB_Projet\\csv\\donnees_corse_propre_csv.csv\", mode= \"r\") as f, open(\"insertion_provoquer_corse.txt\", mode=\"w\") as out_file:\n",
    "    nbLigne = 0\n",
    "    for ligne in f:\n",
    "        donnee = ligne.split(\";\")\n",
    "        if nbLigne != 0 :\n",
    "            out_file.write(f\"({donnee[0]},{donnee[4]}),\\n\")\n",
    "        nbLigne+=1 "
   ]
  },
  {
   "cell_type": "code",
   "execution_count": null,
   "id": "4f30dbfd",
   "metadata": {},
   "outputs": [],
   "source": []
  },
  {
   "cell_type": "code",
   "execution_count": 6,
   "id": "fe44df6f",
   "metadata": {},
   "outputs": [],
   "source": [
    "#est\n",
    "\n",
    "\n",
    "with open(r\"C:\\Users\\arifd\\OneDrive\\Bureau\\Creation_DB_Projet\\csv\\est_presque_propre_csv.csv\", mode= \"r\") as f, open(\"insertion_provoquer_est.txt\", mode=\"w\") as out_file:\n",
    "    nbLigne = 0\n",
    "    for ligne in f:\n",
    "        donnee = ligne.split(\";\")\n",
    "        if nbLigne != 0 :\n",
    "            out_file.write(f\"({donnee[0]},{donnee[4]}),\\n\")\n",
    "        nbLigne+=1 "
   ]
  },
  {
   "cell_type": "markdown",
   "id": "34d9351f",
   "metadata": {},
   "source": [
    "# Table DFCI\n"
   ]
  },
  {
   "cell_type": "code",
   "execution_count": 9,
   "id": "952b691d",
   "metadata": {},
   "outputs": [],
   "source": [
    "with open(r\"C:\\Users\\arifd\\OneDrive\\Bureau\\Creation_DB_Projet\\csv\\DFCI_csv.csv\", mode= \"r\") as f, open(\"dfci_insertion.txt\", mode=\"w\") as out_file:\n",
    "    nbLigne = 0\n",
    "    for ligne in f:\n",
    "        donnee = ligne.split(\";\")\n",
    "        if nbLigne != 0 :\n",
    "            out_file.write(f\"({donnee[0]},{donnee[1]},{donnee[2]}),\\n\")\n",
    "        nbLigne+=1 "
   ]
  },
  {
   "cell_type": "code",
   "execution_count": null,
   "id": "468b4ef6",
   "metadata": {},
   "outputs": [],
   "source": []
  }
 ],
 "metadata": {
  "kernelspec": {
   "display_name": "Python 3 (ipykernel)",
   "language": "python",
   "name": "python3"
  },
  "language_info": {
   "codemirror_mode": {
    "name": "ipython",
    "version": 3
   },
   "file_extension": ".py",
   "mimetype": "text/x-python",
   "name": "python",
   "nbconvert_exporter": "python",
   "pygments_lexer": "ipython3",
   "version": "3.9.12"
  }
 },
 "nbformat": 4,
 "nbformat_minor": 5
}
